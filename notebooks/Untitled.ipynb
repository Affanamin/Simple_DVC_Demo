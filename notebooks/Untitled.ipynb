{
 "cells": [
  {
   "cell_type": "code",
   "execution_count": 5,
   "id": "639f9d52-d67d-4c6c-8b4c-3a21b1de88e3",
   "metadata": {},
   "outputs": [
    {
     "ename": "TypeError",
     "evalue": "join() argument must be str or bytes, not 'int'",
     "output_type": "error",
     "traceback": [
      "\u001b[1;31m---------------------------------------------------------------------------\u001b[0m",
      "\u001b[1;31mTypeError\u001b[0m                                 Traceback (most recent call last)",
      "\u001b[1;32m<ipython-input-5-71339283b8b6>\u001b[0m in \u001b[0;36m<module>\u001b[1;34m\u001b[0m\n\u001b[0;32m     33\u001b[0m \u001b[1;33m\u001b[0m\u001b[0m\n\u001b[0;32m     34\u001b[0m \u001b[1;33m\u001b[0m\u001b[0m\n\u001b[1;32m---> 35\u001b[1;33m \u001b[0mlog_production_model\u001b[0m\u001b[1;33m(\u001b[0m\u001b[1;34m\"../params.yaml\"\u001b[0m\u001b[1;33m)\u001b[0m\u001b[1;33m\u001b[0m\u001b[1;33m\u001b[0m\u001b[0m\n\u001b[0m",
      "\u001b[1;32m<ipython-input-5-71339283b8b6>\u001b[0m in \u001b[0;36mlog_production_model\u001b[1;34m(config_path)\u001b[0m\n\u001b[0;32m     14\u001b[0m     \u001b[0mremote_server_uri\u001b[0m \u001b[1;33m=\u001b[0m \u001b[0mmlflow_config\u001b[0m\u001b[1;33m[\u001b[0m\u001b[1;34m\"remote_server_uri\"\u001b[0m\u001b[1;33m]\u001b[0m\u001b[1;33m\u001b[0m\u001b[1;33m\u001b[0m\u001b[0m\n\u001b[0;32m     15\u001b[0m     \u001b[0mmlflow\u001b[0m\u001b[1;33m.\u001b[0m\u001b[0mset_registry_uri\u001b[0m\u001b[1;33m(\u001b[0m\u001b[0mremote_server_uri\u001b[0m\u001b[1;33m)\u001b[0m\u001b[1;33m\u001b[0m\u001b[1;33m\u001b[0m\u001b[0m\n\u001b[1;32m---> 16\u001b[1;33m     \u001b[0mruns\u001b[0m \u001b[1;33m=\u001b[0m \u001b[0mmlflow\u001b[0m\u001b[1;33m.\u001b[0m\u001b[0msearch_runs\u001b[0m\u001b[1;33m(\u001b[0m\u001b[0mexperiment_ids\u001b[0m \u001b[1;33m=\u001b[0m\u001b[1;36m1\u001b[0m\u001b[1;33m)\u001b[0m\u001b[1;33m\u001b[0m\u001b[1;33m\u001b[0m\u001b[0m\n\u001b[0m\u001b[0;32m     17\u001b[0m     \u001b[0mlowest\u001b[0m \u001b[1;33m=\u001b[0m \u001b[0mruns\u001b[0m\u001b[1;33m[\u001b[0m\u001b[1;34m\"metrics.mae\"\u001b[0m\u001b[1;33m]\u001b[0m\u001b[1;33m.\u001b[0m\u001b[0msort_values\u001b[0m\u001b[1;33m(\u001b[0m\u001b[0mascending\u001b[0m\u001b[1;33m=\u001b[0m\u001b[1;32mTrue\u001b[0m\u001b[1;33m)\u001b[0m\u001b[1;33m[\u001b[0m\u001b[1;36m0\u001b[0m\u001b[1;33m]\u001b[0m\u001b[1;33m\u001b[0m\u001b[1;33m\u001b[0m\u001b[0m\n\u001b[0;32m     18\u001b[0m     \u001b[0mlowest_run_id\u001b[0m \u001b[1;33m=\u001b[0m \u001b[0mruns\u001b[0m\u001b[1;33m[\u001b[0m\u001b[0mruns\u001b[0m\u001b[1;33m[\u001b[0m\u001b[1;34m\"metrics.mae\"\u001b[0m\u001b[1;33m]\u001b[0m \u001b[1;33m==\u001b[0m \u001b[0mlowest\u001b[0m\u001b[1;33m]\u001b[0m\u001b[1;33m[\u001b[0m\u001b[1;34m\"run_id\"\u001b[0m\u001b[1;33m]\u001b[0m\u001b[1;33m[\u001b[0m\u001b[1;36m0\u001b[0m\u001b[1;33m]\u001b[0m\u001b[1;33m\u001b[0m\u001b[1;33m\u001b[0m\u001b[0m\n",
      "\u001b[1;32md:\\anaconda\\envs\\wineq\\lib\\site-packages\\mlflow\\tracking\\fluent.py\u001b[0m in \u001b[0;36msearch_runs\u001b[1;34m(experiment_ids, filter_string, run_view_type, max_results, order_by, output_format)\u001b[0m\n\u001b[0;32m   1017\u001b[0m         )\n\u001b[0;32m   1018\u001b[0m \u001b[1;33m\u001b[0m\u001b[0m\n\u001b[1;32m-> 1019\u001b[1;33m     \u001b[0mruns\u001b[0m \u001b[1;33m=\u001b[0m \u001b[0m_paginate\u001b[0m\u001b[1;33m(\u001b[0m\u001b[0mpagination_wrapper_func\u001b[0m\u001b[1;33m,\u001b[0m \u001b[0mNUM_RUNS_PER_PAGE_PANDAS\u001b[0m\u001b[1;33m,\u001b[0m \u001b[0mmax_results\u001b[0m\u001b[1;33m)\u001b[0m\u001b[1;33m\u001b[0m\u001b[1;33m\u001b[0m\u001b[0m\n\u001b[0m\u001b[0;32m   1020\u001b[0m \u001b[1;33m\u001b[0m\u001b[0m\n\u001b[0;32m   1021\u001b[0m     \u001b[1;32mif\u001b[0m \u001b[0moutput_format\u001b[0m \u001b[1;33m==\u001b[0m \u001b[1;34m\"list\"\u001b[0m\u001b[1;33m:\u001b[0m\u001b[1;33m\u001b[0m\u001b[1;33m\u001b[0m\u001b[0m\n",
      "\u001b[1;32md:\\anaconda\\envs\\wineq\\lib\\site-packages\\mlflow\\tracking\\fluent.py\u001b[0m in \u001b[0;36m_paginate\u001b[1;34m(paginated_fn, max_results_per_page, max_results)\u001b[0m\n\u001b[0;32m   1186\u001b[0m             \u001b[0mpage_results\u001b[0m \u001b[1;33m=\u001b[0m \u001b[0mpaginated_fn\u001b[0m\u001b[1;33m(\u001b[0m\u001b[0mnum_to_get\u001b[0m\u001b[1;33m,\u001b[0m \u001b[0mnext_page_token\u001b[0m\u001b[1;33m)\u001b[0m\u001b[1;33m\u001b[0m\u001b[1;33m\u001b[0m\u001b[0m\n\u001b[0;32m   1187\u001b[0m         \u001b[1;32melse\u001b[0m\u001b[1;33m:\u001b[0m\u001b[1;33m\u001b[0m\u001b[1;33m\u001b[0m\u001b[0m\n\u001b[1;32m-> 1188\u001b[1;33m             \u001b[0mpage_results\u001b[0m \u001b[1;33m=\u001b[0m \u001b[0mpaginated_fn\u001b[0m\u001b[1;33m(\u001b[0m\u001b[0mmax_results_per_page\u001b[0m\u001b[1;33m,\u001b[0m \u001b[0mnext_page_token\u001b[0m\u001b[1;33m)\u001b[0m\u001b[1;33m\u001b[0m\u001b[1;33m\u001b[0m\u001b[0m\n\u001b[0m\u001b[0;32m   1189\u001b[0m         \u001b[0mall_results\u001b[0m\u001b[1;33m.\u001b[0m\u001b[0mextend\u001b[0m\u001b[1;33m(\u001b[0m\u001b[0mpage_results\u001b[0m\u001b[1;33m)\u001b[0m\u001b[1;33m\u001b[0m\u001b[1;33m\u001b[0m\u001b[0m\n\u001b[0;32m   1190\u001b[0m         \u001b[1;32mif\u001b[0m \u001b[0mhasattr\u001b[0m\u001b[1;33m(\u001b[0m\u001b[0mpage_results\u001b[0m\u001b[1;33m,\u001b[0m \u001b[1;34m\"token\"\u001b[0m\u001b[1;33m)\u001b[0m \u001b[1;32mand\u001b[0m \u001b[0mpage_results\u001b[0m\u001b[1;33m.\u001b[0m\u001b[0mtoken\u001b[0m\u001b[1;33m:\u001b[0m\u001b[1;33m\u001b[0m\u001b[1;33m\u001b[0m\u001b[0m\n",
      "\u001b[1;32md:\\anaconda\\envs\\wineq\\lib\\site-packages\\mlflow\\tracking\\fluent.py\u001b[0m in \u001b[0;36mpagination_wrapper_func\u001b[1;34m(number_to_get, next_page_token)\u001b[0m\n\u001b[0;32m   1014\u001b[0m     \u001b[1;32mdef\u001b[0m \u001b[0mpagination_wrapper_func\u001b[0m\u001b[1;33m(\u001b[0m\u001b[0mnumber_to_get\u001b[0m\u001b[1;33m,\u001b[0m \u001b[0mnext_page_token\u001b[0m\u001b[1;33m)\u001b[0m\u001b[1;33m:\u001b[0m\u001b[1;33m\u001b[0m\u001b[1;33m\u001b[0m\u001b[0m\n\u001b[0;32m   1015\u001b[0m         return MlflowClient().search_runs(\n\u001b[1;32m-> 1016\u001b[1;33m             \u001b[0mexperiment_ids\u001b[0m\u001b[1;33m,\u001b[0m \u001b[0mfilter_string\u001b[0m\u001b[1;33m,\u001b[0m \u001b[0mrun_view_type\u001b[0m\u001b[1;33m,\u001b[0m \u001b[0mnumber_to_get\u001b[0m\u001b[1;33m,\u001b[0m \u001b[0morder_by\u001b[0m\u001b[1;33m,\u001b[0m \u001b[0mnext_page_token\u001b[0m\u001b[1;33m,\u001b[0m\u001b[1;33m\u001b[0m\u001b[1;33m\u001b[0m\u001b[0m\n\u001b[0m\u001b[0;32m   1017\u001b[0m         )\n\u001b[0;32m   1018\u001b[0m \u001b[1;33m\u001b[0m\u001b[0m\n",
      "\u001b[1;32md:\\anaconda\\envs\\wineq\\lib\\site-packages\\mlflow\\tracking\\client.py\u001b[0m in \u001b[0;36msearch_runs\u001b[1;34m(self, experiment_ids, filter_string, run_view_type, max_results, order_by, page_token)\u001b[0m\n\u001b[0;32m   1519\u001b[0m         \"\"\"\n\u001b[0;32m   1520\u001b[0m         return self._tracking_client.search_runs(\n\u001b[1;32m-> 1521\u001b[1;33m             \u001b[0mexperiment_ids\u001b[0m\u001b[1;33m,\u001b[0m \u001b[0mfilter_string\u001b[0m\u001b[1;33m,\u001b[0m \u001b[0mrun_view_type\u001b[0m\u001b[1;33m,\u001b[0m \u001b[0mmax_results\u001b[0m\u001b[1;33m,\u001b[0m \u001b[0morder_by\u001b[0m\u001b[1;33m,\u001b[0m \u001b[0mpage_token\u001b[0m\u001b[1;33m\u001b[0m\u001b[1;33m\u001b[0m\u001b[0m\n\u001b[0m\u001b[0;32m   1522\u001b[0m         )\n\u001b[0;32m   1523\u001b[0m \u001b[1;33m\u001b[0m\u001b[0m\n",
      "\u001b[1;32md:\\anaconda\\envs\\wineq\\lib\\site-packages\\mlflow\\tracking\\_tracking_service\\client.py\u001b[0m in \u001b[0;36msearch_runs\u001b[1;34m(self, experiment_ids, filter_string, run_view_type, max_results, order_by, page_token)\u001b[0m\n\u001b[0;32m    374\u001b[0m             \u001b[0mmax_results\u001b[0m\u001b[1;33m=\u001b[0m\u001b[0mmax_results\u001b[0m\u001b[1;33m,\u001b[0m\u001b[1;33m\u001b[0m\u001b[1;33m\u001b[0m\u001b[0m\n\u001b[0;32m    375\u001b[0m             \u001b[0morder_by\u001b[0m\u001b[1;33m=\u001b[0m\u001b[0morder_by\u001b[0m\u001b[1;33m,\u001b[0m\u001b[1;33m\u001b[0m\u001b[1;33m\u001b[0m\u001b[0m\n\u001b[1;32m--> 376\u001b[1;33m             \u001b[0mpage_token\u001b[0m\u001b[1;33m=\u001b[0m\u001b[0mpage_token\u001b[0m\u001b[1;33m,\u001b[0m\u001b[1;33m\u001b[0m\u001b[1;33m\u001b[0m\u001b[0m\n\u001b[0m\u001b[0;32m    377\u001b[0m         )\n",
      "\u001b[1;32md:\\anaconda\\envs\\wineq\\lib\\site-packages\\mlflow\\store\\tracking\\abstract_store.py\u001b[0m in \u001b[0;36msearch_runs\u001b[1;34m(self, experiment_ids, filter_string, run_view_type, max_results, order_by, page_token)\u001b[0m\n\u001b[0;32m    233\u001b[0m         \"\"\"\n\u001b[0;32m    234\u001b[0m         runs, token = self._search_runs(\n\u001b[1;32m--> 235\u001b[1;33m             \u001b[0mexperiment_ids\u001b[0m\u001b[1;33m,\u001b[0m \u001b[0mfilter_string\u001b[0m\u001b[1;33m,\u001b[0m \u001b[0mrun_view_type\u001b[0m\u001b[1;33m,\u001b[0m \u001b[0mmax_results\u001b[0m\u001b[1;33m,\u001b[0m \u001b[0morder_by\u001b[0m\u001b[1;33m,\u001b[0m \u001b[0mpage_token\u001b[0m\u001b[1;33m\u001b[0m\u001b[1;33m\u001b[0m\u001b[0m\n\u001b[0m\u001b[0;32m    236\u001b[0m         )\n\u001b[0;32m    237\u001b[0m         \u001b[1;32mreturn\u001b[0m \u001b[0mPagedList\u001b[0m\u001b[1;33m(\u001b[0m\u001b[0mruns\u001b[0m\u001b[1;33m,\u001b[0m \u001b[0mtoken\u001b[0m\u001b[1;33m)\u001b[0m\u001b[1;33m\u001b[0m\u001b[1;33m\u001b[0m\u001b[0m\n",
      "\u001b[1;32md:\\anaconda\\envs\\wineq\\lib\\site-packages\\mlflow\\store\\tracking\\file_store.py\u001b[0m in \u001b[0;36m_search_runs\u001b[1;34m(self, experiment_ids, filter_string, run_view_type, max_results, order_by, page_token)\u001b[0m\n\u001b[0;32m    729\u001b[0m         \u001b[0mruns\u001b[0m \u001b[1;33m=\u001b[0m \u001b[1;33m[\u001b[0m\u001b[1;33m]\u001b[0m\u001b[1;33m\u001b[0m\u001b[1;33m\u001b[0m\u001b[0m\n\u001b[0;32m    730\u001b[0m         \u001b[1;32mfor\u001b[0m \u001b[0mexperiment_id\u001b[0m \u001b[1;32min\u001b[0m \u001b[0mexperiment_ids\u001b[0m\u001b[1;33m:\u001b[0m\u001b[1;33m\u001b[0m\u001b[1;33m\u001b[0m\u001b[0m\n\u001b[1;32m--> 731\u001b[1;33m             \u001b[0mrun_infos\u001b[0m \u001b[1;33m=\u001b[0m \u001b[0mself\u001b[0m\u001b[1;33m.\u001b[0m\u001b[0m_list_run_infos\u001b[0m\u001b[1;33m(\u001b[0m\u001b[0mexperiment_id\u001b[0m\u001b[1;33m,\u001b[0m \u001b[0mrun_view_type\u001b[0m\u001b[1;33m)\u001b[0m\u001b[1;33m\u001b[0m\u001b[1;33m\u001b[0m\u001b[0m\n\u001b[0m\u001b[0;32m    732\u001b[0m             \u001b[0mruns\u001b[0m\u001b[1;33m.\u001b[0m\u001b[0mextend\u001b[0m\u001b[1;33m(\u001b[0m\u001b[0mself\u001b[0m\u001b[1;33m.\u001b[0m\u001b[0m_get_run_from_info\u001b[0m\u001b[1;33m(\u001b[0m\u001b[0mr\u001b[0m\u001b[1;33m)\u001b[0m \u001b[1;32mfor\u001b[0m \u001b[0mr\u001b[0m \u001b[1;32min\u001b[0m \u001b[0mrun_infos\u001b[0m\u001b[1;33m)\u001b[0m\u001b[1;33m\u001b[0m\u001b[1;33m\u001b[0m\u001b[0m\n\u001b[0;32m    733\u001b[0m         \u001b[0mfiltered\u001b[0m \u001b[1;33m=\u001b[0m \u001b[0mSearchUtils\u001b[0m\u001b[1;33m.\u001b[0m\u001b[0mfilter\u001b[0m\u001b[1;33m(\u001b[0m\u001b[0mruns\u001b[0m\u001b[1;33m,\u001b[0m \u001b[0mfilter_string\u001b[0m\u001b[1;33m)\u001b[0m\u001b[1;33m\u001b[0m\u001b[1;33m\u001b[0m\u001b[0m\n",
      "\u001b[1;32md:\\anaconda\\envs\\wineq\\lib\\site-packages\\mlflow\\store\\tracking\\file_store.py\u001b[0m in \u001b[0;36m_list_run_infos\u001b[1;34m(self, experiment_id, view_type)\u001b[0m\n\u001b[0;32m    677\u001b[0m     \u001b[1;32mdef\u001b[0m \u001b[0m_list_run_infos\u001b[0m\u001b[1;33m(\u001b[0m\u001b[0mself\u001b[0m\u001b[1;33m,\u001b[0m \u001b[0mexperiment_id\u001b[0m\u001b[1;33m,\u001b[0m \u001b[0mview_type\u001b[0m\u001b[1;33m)\u001b[0m\u001b[1;33m:\u001b[0m\u001b[1;33m\u001b[0m\u001b[1;33m\u001b[0m\u001b[0m\n\u001b[0;32m    678\u001b[0m         \u001b[0mself\u001b[0m\u001b[1;33m.\u001b[0m\u001b[0m_check_root_dir\u001b[0m\u001b[1;33m(\u001b[0m\u001b[1;33m)\u001b[0m\u001b[1;33m\u001b[0m\u001b[1;33m\u001b[0m\u001b[0m\n\u001b[1;32m--> 679\u001b[1;33m         \u001b[1;32mif\u001b[0m \u001b[1;32mnot\u001b[0m \u001b[0mself\u001b[0m\u001b[1;33m.\u001b[0m\u001b[0m_has_experiment\u001b[0m\u001b[1;33m(\u001b[0m\u001b[0mexperiment_id\u001b[0m\u001b[1;33m)\u001b[0m\u001b[1;33m:\u001b[0m\u001b[1;33m\u001b[0m\u001b[1;33m\u001b[0m\u001b[0m\n\u001b[0m\u001b[0;32m    680\u001b[0m             \u001b[1;32mreturn\u001b[0m \u001b[1;33m[\u001b[0m\u001b[1;33m]\u001b[0m\u001b[1;33m\u001b[0m\u001b[1;33m\u001b[0m\u001b[0m\n\u001b[0;32m    681\u001b[0m         \u001b[0mexperiment_dir\u001b[0m \u001b[1;33m=\u001b[0m \u001b[0mself\u001b[0m\u001b[1;33m.\u001b[0m\u001b[0m_get_experiment_path\u001b[0m\u001b[1;33m(\u001b[0m\u001b[0mexperiment_id\u001b[0m\u001b[1;33m,\u001b[0m \u001b[0massert_exists\u001b[0m\u001b[1;33m=\u001b[0m\u001b[1;32mTrue\u001b[0m\u001b[1;33m)\u001b[0m\u001b[1;33m\u001b[0m\u001b[1;33m\u001b[0m\u001b[0m\n",
      "\u001b[1;32md:\\anaconda\\envs\\wineq\\lib\\site-packages\\mlflow\\store\\tracking\\file_store.py\u001b[0m in \u001b[0;36m_has_experiment\u001b[1;34m(self, experiment_id)\u001b[0m\n\u001b[0;32m    296\u001b[0m \u001b[1;33m\u001b[0m\u001b[0m\n\u001b[0;32m    297\u001b[0m     \u001b[1;32mdef\u001b[0m \u001b[0m_has_experiment\u001b[0m\u001b[1;33m(\u001b[0m\u001b[0mself\u001b[0m\u001b[1;33m,\u001b[0m \u001b[0mexperiment_id\u001b[0m\u001b[1;33m)\u001b[0m\u001b[1;33m:\u001b[0m\u001b[1;33m\u001b[0m\u001b[1;33m\u001b[0m\u001b[0m\n\u001b[1;32m--> 298\u001b[1;33m         \u001b[1;32mreturn\u001b[0m \u001b[0mself\u001b[0m\u001b[1;33m.\u001b[0m\u001b[0m_get_experiment_path\u001b[0m\u001b[1;33m(\u001b[0m\u001b[0mexperiment_id\u001b[0m\u001b[1;33m)\u001b[0m \u001b[1;32mis\u001b[0m \u001b[1;32mnot\u001b[0m \u001b[1;32mNone\u001b[0m\u001b[1;33m\u001b[0m\u001b[1;33m\u001b[0m\u001b[0m\n\u001b[0m\u001b[0;32m    299\u001b[0m \u001b[1;33m\u001b[0m\u001b[0m\n\u001b[0;32m    300\u001b[0m     \u001b[1;32mdef\u001b[0m \u001b[0m_get_experiment\u001b[0m\u001b[1;33m(\u001b[0m\u001b[0mself\u001b[0m\u001b[1;33m,\u001b[0m \u001b[0mexperiment_id\u001b[0m\u001b[1;33m,\u001b[0m \u001b[0mview_type\u001b[0m\u001b[1;33m=\u001b[0m\u001b[0mViewType\u001b[0m\u001b[1;33m.\u001b[0m\u001b[0mALL\u001b[0m\u001b[1;33m)\u001b[0m\u001b[1;33m:\u001b[0m\u001b[1;33m\u001b[0m\u001b[1;33m\u001b[0m\u001b[0m\n",
      "\u001b[1;32md:\\anaconda\\envs\\wineq\\lib\\site-packages\\mlflow\\store\\tracking\\file_store.py\u001b[0m in \u001b[0;36m_get_experiment_path\u001b[1;34m(self, experiment_id, view_type, assert_exists)\u001b[0m\n\u001b[0;32m    159\u001b[0m             \u001b[0mparents\u001b[0m\u001b[1;33m.\u001b[0m\u001b[0mappend\u001b[0m\u001b[1;33m(\u001b[0m\u001b[0mself\u001b[0m\u001b[1;33m.\u001b[0m\u001b[0mtrash_folder\u001b[0m\u001b[1;33m)\u001b[0m\u001b[1;33m\u001b[0m\u001b[1;33m\u001b[0m\u001b[0m\n\u001b[0;32m    160\u001b[0m         \u001b[1;32mfor\u001b[0m \u001b[0mparent\u001b[0m \u001b[1;32min\u001b[0m \u001b[0mparents\u001b[0m\u001b[1;33m:\u001b[0m\u001b[1;33m\u001b[0m\u001b[1;33m\u001b[0m\u001b[0m\n\u001b[1;32m--> 161\u001b[1;33m             \u001b[0mexp_list\u001b[0m \u001b[1;33m=\u001b[0m \u001b[0mfind\u001b[0m\u001b[1;33m(\u001b[0m\u001b[0mparent\u001b[0m\u001b[1;33m,\u001b[0m \u001b[0mexperiment_id\u001b[0m\u001b[1;33m,\u001b[0m \u001b[0mfull_path\u001b[0m\u001b[1;33m=\u001b[0m\u001b[1;32mTrue\u001b[0m\u001b[1;33m)\u001b[0m\u001b[1;33m\u001b[0m\u001b[1;33m\u001b[0m\u001b[0m\n\u001b[0m\u001b[0;32m    162\u001b[0m             \u001b[1;32mif\u001b[0m \u001b[0mlen\u001b[0m\u001b[1;33m(\u001b[0m\u001b[0mexp_list\u001b[0m\u001b[1;33m)\u001b[0m \u001b[1;33m>\u001b[0m \u001b[1;36m0\u001b[0m\u001b[1;33m:\u001b[0m\u001b[1;33m\u001b[0m\u001b[1;33m\u001b[0m\u001b[0m\n\u001b[0;32m    163\u001b[0m                 \u001b[1;32mreturn\u001b[0m \u001b[0mexp_list\u001b[0m\u001b[1;33m[\u001b[0m\u001b[1;36m0\u001b[0m\u001b[1;33m]\u001b[0m\u001b[1;33m\u001b[0m\u001b[1;33m\u001b[0m\u001b[0m\n",
      "\u001b[1;32md:\\anaconda\\envs\\wineq\\lib\\site-packages\\mlflow\\utils\\file_utils.py\u001b[0m in \u001b[0;36mfind\u001b[1;34m(root, name, full_path)\u001b[0m\n\u001b[0;32m     93\u001b[0m     \u001b[1;33m:\u001b[0m\u001b[1;32mreturn\u001b[0m\u001b[1;33m:\u001b[0m \u001b[0mlist\u001b[0m \u001b[0mof\u001b[0m \u001b[0mmatching\u001b[0m \u001b[0mfiles\u001b[0m \u001b[1;32mor\u001b[0m \u001b[0mdirectories\u001b[0m\u001b[1;33m\u001b[0m\u001b[1;33m\u001b[0m\u001b[0m\n\u001b[0;32m     94\u001b[0m     \"\"\"\n\u001b[1;32m---> 95\u001b[1;33m     \u001b[0mpath_name\u001b[0m \u001b[1;33m=\u001b[0m \u001b[0mos\u001b[0m\u001b[1;33m.\u001b[0m\u001b[0mpath\u001b[0m\u001b[1;33m.\u001b[0m\u001b[0mjoin\u001b[0m\u001b[1;33m(\u001b[0m\u001b[0mroot\u001b[0m\u001b[1;33m,\u001b[0m \u001b[0mname\u001b[0m\u001b[1;33m)\u001b[0m\u001b[1;33m\u001b[0m\u001b[1;33m\u001b[0m\u001b[0m\n\u001b[0m\u001b[0;32m     96\u001b[0m     \u001b[1;32mreturn\u001b[0m \u001b[0mlist_all\u001b[0m\u001b[1;33m(\u001b[0m\u001b[0mroot\u001b[0m\u001b[1;33m,\u001b[0m \u001b[1;32mlambda\u001b[0m \u001b[0mx\u001b[0m\u001b[1;33m:\u001b[0m \u001b[0mx\u001b[0m \u001b[1;33m==\u001b[0m \u001b[0mpath_name\u001b[0m\u001b[1;33m,\u001b[0m \u001b[0mfull_path\u001b[0m\u001b[1;33m)\u001b[0m\u001b[1;33m\u001b[0m\u001b[1;33m\u001b[0m\u001b[0m\n\u001b[0;32m     97\u001b[0m \u001b[1;33m\u001b[0m\u001b[0m\n",
      "\u001b[1;32md:\\anaconda\\envs\\wineq\\lib\\ntpath.py\u001b[0m in \u001b[0;36mjoin\u001b[1;34m(path, *paths)\u001b[0m\n\u001b[0;32m    113\u001b[0m         \u001b[1;32mreturn\u001b[0m \u001b[0mresult_drive\u001b[0m \u001b[1;33m+\u001b[0m \u001b[0mresult_path\u001b[0m\u001b[1;33m\u001b[0m\u001b[1;33m\u001b[0m\u001b[0m\n\u001b[0;32m    114\u001b[0m     \u001b[1;32mexcept\u001b[0m \u001b[1;33m(\u001b[0m\u001b[0mTypeError\u001b[0m\u001b[1;33m,\u001b[0m \u001b[0mAttributeError\u001b[0m\u001b[1;33m,\u001b[0m \u001b[0mBytesWarning\u001b[0m\u001b[1;33m)\u001b[0m\u001b[1;33m:\u001b[0m\u001b[1;33m\u001b[0m\u001b[1;33m\u001b[0m\u001b[0m\n\u001b[1;32m--> 115\u001b[1;33m         \u001b[0mgenericpath\u001b[0m\u001b[1;33m.\u001b[0m\u001b[0m_check_arg_types\u001b[0m\u001b[1;33m(\u001b[0m\u001b[1;34m'join'\u001b[0m\u001b[1;33m,\u001b[0m \u001b[0mpath\u001b[0m\u001b[1;33m,\u001b[0m \u001b[1;33m*\u001b[0m\u001b[0mpaths\u001b[0m\u001b[1;33m)\u001b[0m\u001b[1;33m\u001b[0m\u001b[1;33m\u001b[0m\u001b[0m\n\u001b[0m\u001b[0;32m    116\u001b[0m         \u001b[1;32mraise\u001b[0m\u001b[1;33m\u001b[0m\u001b[1;33m\u001b[0m\u001b[0m\n\u001b[0;32m    117\u001b[0m \u001b[1;33m\u001b[0m\u001b[0m\n",
      "\u001b[1;32md:\\anaconda\\envs\\wineq\\lib\\genericpath.py\u001b[0m in \u001b[0;36m_check_arg_types\u001b[1;34m(funcname, *args)\u001b[0m\n\u001b[0;32m    151\u001b[0m         \u001b[1;32melse\u001b[0m\u001b[1;33m:\u001b[0m\u001b[1;33m\u001b[0m\u001b[1;33m\u001b[0m\u001b[0m\n\u001b[0;32m    152\u001b[0m             raise TypeError('%s() argument must be str or bytes, not %r' %\n\u001b[1;32m--> 153\u001b[1;33m                             (funcname, s.__class__.__name__)) from None\n\u001b[0m\u001b[0;32m    154\u001b[0m     \u001b[1;32mif\u001b[0m \u001b[0mhasstr\u001b[0m \u001b[1;32mand\u001b[0m \u001b[0mhasbytes\u001b[0m\u001b[1;33m:\u001b[0m\u001b[1;33m\u001b[0m\u001b[1;33m\u001b[0m\u001b[0m\n\u001b[0;32m    155\u001b[0m         \u001b[1;32mraise\u001b[0m \u001b[0mTypeError\u001b[0m\u001b[1;33m(\u001b[0m\u001b[1;34m\"Can't mix strings and bytes in path components\"\u001b[0m\u001b[1;33m)\u001b[0m \u001b[1;32mfrom\u001b[0m \u001b[1;32mNone\u001b[0m\u001b[1;33m\u001b[0m\u001b[1;33m\u001b[0m\u001b[0m\n",
      "\u001b[1;31mTypeError\u001b[0m: join() argument must be str or bytes, not 'int'"
     ]
    }
   ],
   "source": [
    "from src.get_data import read_params\n",
    "import argparse\n",
    "import mlflow\n",
    "from mlflow.tracking import MlflowClient\n",
    "from pprint import pprint\n",
    "import joblib\n",
    "import os\n",
    "os.chdir('E:/MLOps/MLOps_SimpleProject/notebooks')\n",
    "def log_production_model(config_path):\n",
    "    config = read_params(config_path)\n",
    "\n",
    "    mlflow_config = config[\"mlflow_config\"]\n",
    "    model_name = mlflow_config[\"registered_model_name\"]\n",
    "    remote_server_uri = mlflow_config[\"remote_server_uri\"]\n",
    "    mlflow.set_registry_uri(remote_server_uri)\n",
    "    runs = mlflow.search_runs(experiment_ids =1)\n",
    "    lowest = runs[\"metrics.mae\"].sort_values(ascending=True)[0]\n",
    "    lowest_run_id = runs[runs[\"metrics.mae\"] == lowest][\"run_id\"][0]\n",
    "\n",
    "    client = MlflowClient()\n",
    "    for mv in client.search_model_versions(f\"name={model_name}\"):\n",
    "        mv = dict(mv)\n",
    "\n",
    "        if mv[\"run_id\"] == lowest_run_id:\n",
    "            current_version = mv[\"version\"]\n",
    "            logged_model = mv[\"source\"]\n",
    "            pprint(mv, indent=4)\n",
    "            client.transition_model_version_stage(\n",
    "                name = model_name,\n",
    "                version = current_version,\n",
    "                stage = \"Staging\"    #\"Production\"\n",
    "            )\n",
    "\n",
    "\n",
    "log_production_model(\"../params.yaml\")"
   ]
  },
  {
   "cell_type": "code",
   "execution_count": 1,
   "id": "671e7f9f-758e-4078-b283-60e6a2d23166",
   "metadata": {},
   "outputs": [
    {
     "data": {
      "text/plain": [
       "'E:\\\\MLOps\\\\MLOps_SimpleProject\\\\notebooks'"
      ]
     },
     "execution_count": 1,
     "metadata": {},
     "output_type": "execute_result"
    }
   ],
   "source": [
    "pwd"
   ]
  },
  {
   "cell_type": "code",
   "execution_count": null,
   "id": "9e25d8ba-06e8-477e-9aa2-e2840febceb1",
   "metadata": {},
   "outputs": [],
   "source": []
  }
 ],
 "metadata": {
  "kernelspec": {
   "display_name": "Python 3",
   "language": "python",
   "name": "python3"
  },
  "language_info": {
   "codemirror_mode": {
    "name": "ipython",
    "version": 3
   },
   "file_extension": ".py",
   "mimetype": "text/x-python",
   "name": "python",
   "nbconvert_exporter": "python",
   "pygments_lexer": "ipython3",
   "version": "3.7.10"
  }
 },
 "nbformat": 4,
 "nbformat_minor": 5
}
